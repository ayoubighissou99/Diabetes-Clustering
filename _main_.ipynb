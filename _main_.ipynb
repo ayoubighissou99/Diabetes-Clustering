{
 "cells": [
  {
   "attachments": {},
   "cell_type": "markdown",
   "metadata": {},
   "source": [
    "# Utility Functions"
   ]
  },
  {
   "cell_type": "code",
   "execution_count": 3,
   "metadata": {},
   "outputs": [],
   "source": [
    "import pandas as pd\n",
    "import numpy as np\n",
    "import matplotlib.pyplot as plt\n",
    "from tqdm import tqdm\n",
    "from sklearn import metrics\n",
    "from kmodes.kmodes import KModes\n",
    "from sklearn.metrics import silhouette_score, calinski_harabasz_score, davies_bouldin_score\n",
    "import gower\n",
    "from kmodes.kprototypes import KPrototypes\n",
    "from scipy.spatial.distance import squareform\n",
    "from scipy.cluster.hierarchy import linkage, fcluster, dendrogram\n",
    "\n",
    "def process_dataset(file_path):\n",
    "    # Import the dataset\n",
    "    df = pd.read_csv(file_path)\n",
    "\n",
    "    # Create df_reduced dataset\n",
    "    df_no_target = df.drop(['Diabetes', 'Stroke', 'Hypertension', 'Unnamed: 0'], axis=1)\n",
    "    df_categorical = df.drop(['Diabetes', 'Stroke', 'Hypertension', 'Unnamed: 0', 'BMI'], axis=1)\n",
    "\n",
    "    # Create df_encode dataset\n",
    "    columns_to_encode = ['Age', 'MentHlth', 'GenHlth', 'PhysHlth']\n",
    "    df_encode = pd.get_dummies(df_reduced, columns=columns_to_encode)\n",
    "\n",
    "    return df, df_no_target, df_reduced, df_encode\n",
    "\n",
    "def elbow_method_kmodes(data, cluster_range):\n",
    "    inertias = []\n",
    "    pbar = tqdm(cluster_range, desc=\"Progress\", unit=\"K\")\n",
    "    for k in pbar:\n",
    "        model = KModes(n_clusters=k)\n",
    "        model.fit(data)\n",
    "        inertias.append(model.cost_)\n",
    "        pbar.set_postfix({'Inertia': model.cost_})\n",
    "    \n",
    "    # Calculate the differences between consecutive inertias\n",
    "    diff_inertias = np.diff(inertias)\n",
    "    \n",
    "    # Calculate the second differences\n",
    "    second_diffs = np.diff(diff_inertias)\n",
    "    \n",
    "    # Find the elbow point (K)\n",
    "    elbow_index = second_diffs.argmax() + 1\n",
    "    elbow_point = cluster_range[elbow_index]\n",
    "    \n",
    "    # Plot the graph\n",
    "    plt.figure(figsize=(10, 6))\n",
    "    plt.plot(cluster_range, inertias, marker='o')\n",
    "    plt.xlabel('Number of Clusters (K)')\n",
    "    plt.ylabel('Inertia')\n",
    "    plt.title('Elbow Method')\n",
    "    plt.axvline(x=elbow_point, color='r', linestyle='--')\n",
    "    plt.grid(True)\n",
    "    plt.show()\n",
    "    \n",
    "    return elbow_point\n",
    "\n",
    "def elbow_method_kprototypes(data, cluster_range, categorical_columns):\n",
    "    inertias = []\n",
    "    pbar = tqdm(cluster_range, desc=\"Progress\", unit=\"K\")\n",
    "    for k in pbar:\n",
    "        kproto_model = KPrototypes(n_clusters=k, init='Cao', random_state=42)\n",
    "        clusters = kproto_model.fit_predict(data, categorical=categorical_columns)\n",
    "        inertias.append(kproto_model.cost_)\n",
    "        pbar.set_postfix({'Inertia': kproto_model.cost_})\n",
    "    \n",
    "    # Calculate the differences between consecutive inertias\n",
    "    diff_inertias = np.diff(inertias)\n",
    "    \n",
    "    # Calculate the second differences\n",
    "    second_diffs = np.diff(diff_inertias)\n",
    "    \n",
    "    # Find the elbow point (K)\n",
    "    elbow_index = second_diffs.argmax() + 1\n",
    "    elbow_point = cluster_range[elbow_index]\n",
    "    \n",
    "    # Plot the graph\n",
    "    plt.figure(figsize=(10, 6))\n",
    "    plt.plot(cluster_range, inertias, marker='o')\n",
    "    plt.xlabel('Number of Clusters (K)')\n",
    "    plt.ylabel('Inertia')\n",
    "    plt.title('Elbow Method')\n",
    "    plt.axvline(x=elbow_point, color='r', linestyle='--')\n",
    "    plt.grid(True)\n",
    "    plt.show()\n",
    "    \n",
    "    return elbow_point\n",
    "\n",
    "\n",
    "def sup_metrics(true_labels, pred_labels):\n",
    "    # Supervised Evaluation Metrics\n",
    "    ri = metrics.rand_score(true_labels, pred_labels)\n",
    "    ari = metrics.adjusted_rand_score(true_labels, pred_labels)\n",
    "    fmi = metrics.fowlkes_mallows_score(true_labels, pred_labels)\n",
    "    jc = metrics.jaccard_score(true_labels, pred_labels, average='micro')\n",
    "    nmi = metrics.normalized_mutual_info_score(true_labels, pred_labels)\n",
    "    \n",
    "    metrics_dict = {\n",
    "        \"Rand Index\": ri,\n",
    "        \"Adjusted Rand Index\": ari,\n",
    "        \"Fowlkes-Mallows Index\": fmi,\n",
    "        \"Jaccard Coefficient\": jc,\n",
    "        \"Normalized Mutual Information\": nmi\n",
    "    }\n",
    "    \n",
    "    return metrics_dict\n",
    "\n",
    "\n",
    "def unsup_metrics(data, labels):\n",
    "    # Unsupervised Evaluation Metrics\n",
    "    sc = metrics.silhouette_score(data, labels)\n",
    "    ch = metrics.calinski_harabasz_score(data, labels)\n",
    "    db = metrics.davies_bouldin_score(data, labels)\n",
    "    #dunn = metrics.dunn_score(data, labels)\n",
    "    #vi = metrics.v_measure_score(true_labels, pred_labels)\n",
    "    \n",
    "    metrics_dict = {\n",
    "        \"Silhouette Coefficient\": sc,\n",
    "        \"Calinski-Harabasz Index\": ch,\n",
    "        \"Davies-Bouldin Index\": db,\n",
    "        #\"Dunn Index\": dunn,\n",
    "        #\"Variation of Information\": vi\n",
    "    }\n",
    "    \n",
    "    return metrics_dict"
   ]
  },
  {
   "cell_type": "code",
   "execution_count": 2,
   "metadata": {},
   "outputs": [],
   "source": [
    "df, df_no_target, df_reduced, df_encoded = process_dataset('D:/loren/Desktop/Uni/Unsupervised/Unsupervised-main(1)/Unsupervised-main/df_adj_.csv')"
   ]
  },
  {
   "attachments": {},
   "cell_type": "markdown",
   "metadata": {},
   "source": [
    "# K-MODE"
   ]
  },
  {
   "cell_type": "code",
   "execution_count": null,
   "metadata": {},
   "outputs": [],
   "source": [
    "kmodes_eval = KModes()\n",
    "k_range = np.arange(1,5)\n",
    "k = elbow_method_kmodes(kmodes_eval, df_encoded, k_range)"
   ]
  },
  {
   "cell_type": "code",
   "execution_count": 18,
   "metadata": {},
   "outputs": [
    {
     "name": "stdout",
     "output_type": "stream",
     "text": [
      "Init: initializing centroids\n",
      "Init: initializing clusters\n",
      "Starting iterations...\n",
      "Run 1, iteration: 1/30, moves: 10363, cost: 225794.0\n",
      "Run 1, iteration: 2/30, moves: 5173, cost: 220358.0\n",
      "Run 1, iteration: 3/30, moves: 4362, cost: 220358.0\n",
      "Init: initializing centroids\n",
      "Init: initializing clusters\n",
      "Starting iterations...\n",
      "Run 2, iteration: 1/30, moves: 9299, cost: 218426.0\n",
      "Init: initializing centroids\n",
      "Init: initializing clusters\n",
      "Starting iterations...\n",
      "Run 3, iteration: 1/30, moves: 10327, cost: 220264.0\n",
      "Init: initializing centroids\n",
      "Init: initializing clusters\n",
      "Starting iterations...\n",
      "Run 4, iteration: 1/30, moves: 10347, cost: 222170.0\n",
      "Run 4, iteration: 2/30, moves: 4328, cost: 217387.0\n",
      "Run 4, iteration: 3/30, moves: 1758, cost: 217387.0\n",
      "Init: initializing centroids\n",
      "Init: initializing clusters\n",
      "Starting iterations...\n",
      "Run 5, iteration: 1/30, moves: 8046, cost: 219783.0\n",
      "Run 5, iteration: 2/30, moves: 2422, cost: 219783.0\n",
      "Init: initializing centroids\n",
      "Init: initializing clusters\n",
      "Starting iterations...\n",
      "Run 6, iteration: 1/30, moves: 8012, cost: 214961.0\n",
      "Init: initializing centroids\n",
      "Init: initializing clusters\n",
      "Starting iterations...\n",
      "Run 7, iteration: 1/30, moves: 11596, cost: 218750.0\n",
      "Init: initializing centroids\n",
      "Init: initializing clusters\n",
      "Starting iterations...\n",
      "Run 8, iteration: 1/30, moves: 8018, cost: 218278.0\n",
      "Init: initializing centroids\n",
      "Init: initializing clusters\n",
      "Starting iterations...\n",
      "Run 9, iteration: 1/30, moves: 5701, cost: 215213.0\n",
      "Run 9, iteration: 2/30, moves: 4961, cost: 215213.0\n",
      "Init: initializing centroids\n",
      "Init: initializing clusters\n",
      "Starting iterations...\n",
      "Run 10, iteration: 1/30, moves: 11105, cost: 220358.0\n",
      "Run 10, iteration: 2/30, moves: 6607, cost: 220358.0\n",
      "Best run was number 6\n"
     ]
    }
   ],
   "source": [
    "kmodes = KModes(n_clusters = k , init = 'random', n_init = 10, max_iter = 30, verbose = 1)\n",
    "clusters_kmode = kmodes.fit(df_encoded)"
   ]
  },
  {
   "attachments": {},
   "cell_type": "markdown",
   "metadata": {},
   "source": [
    "# K-PROTOTYPE"
   ]
  },
  {
   "cell_type": "code",
   "execution_count": 25,
   "metadata": {},
   "outputs": [
    {
     "name": "stderr",
     "output_type": "stream",
     "text": [
      "Progress: 100%|██████████| 9/9 [57:05<00:00, 380.63s/K, Inertia=1.02e+5]\n"
     ]
    },
    {
     "data": {
      "image/png": "[encoded data removed]",
      "text/plain": [
       "<Figure size 1000x600 with 1 Axes>"
      ]
     },
     "metadata": {},
     "output_type": "display_data"
    }
   ],
   "source": [
    "cat = [1,11,12,13]\n",
    "k_range = np.arange(1,10)\n",
    "\n",
    "k = elbow_method_kprototypes(df_reduced, k_range, cat)"
   ]
  },
  {
   "cell_type": "code",
   "execution_count": 26,
   "metadata": {},
   "outputs": [],
   "source": [
    "kprototypes = KPrototypes(n_clusters=k, init = 'Cao',n_init = 15)\n",
    "clusters_kprototypes = kprototypes.fit_predict(df_reduced, categorical = cat)"
   ]
  },
  {
   "attachments": {},
   "cell_type": "markdown",
   "metadata": {},
   "source": [
    "# HIERARCHICHAL"
   ]
  },
  {
   "cell_type": "code",
   "execution_count": 4,
   "metadata": {},
   "outputs": [],
   "source": [
    "gower_matrix = gower.gower_matrix(df_reduced.astype('float64'))\n",
    "gower_matrix_cond = squareform(gower_matrix)\n",
    "Z = linkage(gower_matrix_cond, method = 'ward')"
   ]
  },
  {
   "cell_type": "code",
   "execution_count": 5,
   "metadata": {},
   "outputs": [
    {
     "data": {
      "image/png": "[encoded data removed]",
      "text/plain": [
       "<Figure size 1000x1000 with 1 Axes>"
      ]
     },
     "metadata": {},
     "output_type": "display_data"
    }
   ],
   "source": [
    "fig1 = plt.figure(figsize = (10,10))\n",
    "dendrogram(Z, labels = df_reduced.index, orientation = 'top',p=50, truncate_mode = 'lastp') \n",
    "plt.title('Hierarchical Clustering Dendrogram')\n",
    "plt.xlabel('Samples')\n",
    "plt.ylabel('Distance')\n",
    "plt.show()"
   ]
  },
  {
   "cell_type": "code",
   "execution_count": 7,
   "metadata": {},
   "outputs": [
    {
     "name": "stdout",
     "output_type": "stream",
     "text": [
      "We got 2 cluster(s).\n"
     ]
    }
   ],
   "source": [
    "max_d = 25\n",
    "clusters_hierarchical = fcluster(Z, max_d, criterion = 'distance')\n",
    "K = clusters_hierarchical.max()\n",
    "\n",
    "print(\"We got %d cluster(s).\" % K)"
   ]
  },
  {
   "cell_type": "code",
   "execution_count": 8,
   "metadata": {},
   "outputs": [
    {
     "name": "stdout",
     "output_type": "stream",
     "text": [
      "Target Column: Hypertension\n",
      "Supervised Evaluation Metrics:\n",
      "Rand Index: 0.5129476840989724\n",
      "Adjusted Rand Index: 0.022876228613796158\n",
      "Fowlkes-Mallows Index: 0.5641560322879046\n",
      "Jaccard Coefficient: 0.11502013740819711\n",
      "Normalized Mutual Information: 0.04964757206222519\n",
      "\n",
      "Target Column: Stroke\n",
      "Supervised Evaluation Metrics:\n",
      "Rand Index: 0.6158158225856784\n",
      "Adjusted Rand Index: 0.08884983693242357\n",
      "Fowlkes-Mallows Index: 0.7529107367845059\n",
      "Jaccard Coefficient: 0.020199693820871664\n",
      "Normalized Mutual Information: 0.03880586176083327\n",
      "\n",
      "Target Column: Diabetes\n",
      "Supervised Evaluation Metrics:\n",
      "Rand Index: 0.5260239019473957\n",
      "Adjusted Rand Index: 0.05150767899101758\n",
      "Fowlkes-Mallows Index: 0.5739396903225186\n",
      "Jaccard Coefficient: 0.1147065354155873\n",
      "Normalized Mutual Information: 0.0658785286913928\n",
      "\n",
      "\n",
      "Unsupervised Evaluation Metrics:\n",
      "Silhouette Coefficient: 0.025053933778180205\n",
      "Calinski-Harabasz Index: 1569.4830333673801\n",
      "Davies-Bouldin Index: 3.567489329108834\n"
     ]
    }
   ],
   "source": [
    "# Extract the target columns\n",
    "target_columns = [\"Hypertension\", \"Stroke\", \"Diabetes\"]\n",
    "\n",
    "for column in target_columns:\n",
    "    \n",
    "    df_clustering = df.drop(column, axis=1)\n",
    "    # Evaluate the clustering using supervised evaluation metrics\n",
    "    true_labels = df[column].values\n",
    "    sup_eval_metrics = sup_metrics(true_labels, clusters_hierarchical)\n",
    "\n",
    "    # Evaluate the clustering using unsupervised evaluation metrics\n",
    "    unsup_eval_metrics = unsup_metrics(df_clustering.values, clusters_hierarchical)\n",
    "\n",
    "    # Print the evaluation metrics for the current target column\n",
    "    print(f\"Target Column: {column}\")\n",
    "    print(\"Supervised Evaluation Metrics:\")\n",
    "    for metric, value in sup_eval_metrics.items():\n",
    "        print(metric + \":\", value)\n",
    "\n",
    "\n",
    "    print()\n",
    "\n",
    "print(\"\\nUnsupervised Evaluation Metrics:\")\n",
    "for metric, value in unsup_eval_metrics.items():\n",
    "    print(metric + \":\", value)"
   ]
  },
  {
   "cell_type": "code",
   "execution_count": 9,
   "metadata": {},
   "outputs": [
    {
     "data": {
      "text/plain": [
       "array([[    0,     4,     1, ...,     0,     1,     0],\n",
       "       [    1,     8,     0, ...,     0,     0,     0],\n",
       "       [    2,     3,     0, ...,     0,     0,     0],\n",
       "       ...,\n",
       "       [40105,    10,     1, ...,     1,     1,     0],\n",
       "       [40106,     4,     0, ...,     0,     0,     0],\n",
       "       [40107,    11,     1, ...,     0,     1,     0]], dtype=int64)"
      ]
     },
     "execution_count": 9,
     "metadata": {},
     "output_type": "execute_result"
    }
   ],
   "source": [
    "df_clustering.values"
   ]
  },
  {
   "cell_type": "code",
   "execution_count": 12,
   "metadata": {},
   "outputs": [],
   "source": [
    "from kmodes import kprototypes\n",
    "\n",
    "def create_dm(dataset):\n",
    "    #if the input dataset is a dataframe, we take out the values as a numpy. \n",
    "    #If the input dataset is a numpy array, we use it as is.\n",
    "    if type(dataset).__name__=='DataFrame':\n",
    "        dataset=dataset.values    \n",
    "    lenDataset=len(dataset)\n",
    "    distance_matrix=np.zeros(lenDataset*lenDataset).reshape(lenDataset,lenDataset)\n",
    "    for i in range(lenDataset):\n",
    "        for j in range(lenDataset):\n",
    "            x1= dataset[i].reshape(1,-1)\n",
    "            x2= dataset[j].reshape(1,-1)\n",
    "            distance=kprototypes.matching_dissim(x1, x2)\n",
    "            distance_matrix[i][j]=distance\n",
    "            distance_matrix[j][i]=distance\n",
    "    return distance_matrix\n",
    "\n",
    "#data=pd.read_csv(\"D:/loren/Desktop/Uni/Unsupervised/Unsupervised-main(1)/Unsupervised-main/df_adj_.csv\")\n",
    "data = df_encoded\n",
    "silhouette_scores = dict()\n",
    "K = range(1,10)\n",
    "distance_matrix=create_dm(data)\n",
    "for k in K:\n",
    "    untrained_model=KModes(n_clusters=k, n_init=4)\n",
    "    trained_model=untrained_model.fit(data)\n",
    "    cluster_labels = trained_model.labels_\n",
    "    score=silhouette_score(distance_matrix, cluster_labels,metric=\"precomputed\")\n",
    "    silhouette_scores[k]=score\n",
    "print(\"The k and associated Silhouette scores are: \",silhouette_scores)"
   ]
  },
  {
   "cell_type": "code",
   "execution_count": null,
   "metadata": {},
   "outputs": [],
   "source": [
    "def mixed_distance(a,b,categorical=None, alpha=0.01):\n",
    "    if categorical is None:\n",
    "        num_score=kprototypes.euclidean_dissim(a,b)\n",
    "        return num_score\n",
    "    else:\n",
    "        cat_index=categorical\n",
    "        a_cat=[]\n",
    "        b_cat=[]\n",
    "        for index in cat_index:\n",
    "            a_cat.append(a[index])\n",
    "            b_cat.append(b[index])\n",
    "        a_num=[]\n",
    "        b_num=[]\n",
    "        l=len(a)\n",
    "        for index in range(l):\n",
    "            if index not in cat_index:\n",
    "                a_num.append(a[index])\n",
    "                b_num.append(b[index])\n",
    "                \n",
    "        a_cat=np.array(a_cat).reshape(1,-1)\n",
    "        a_num=np.array(a_num).reshape(1,-1)\n",
    "        b_cat=np.array(b_cat).reshape(1,-1)\n",
    "        b_num=np.array(b_num).reshape(1,-1)\n",
    "        cat_score=kprototypes.matching_dissim(a_cat,b_cat)\n",
    "        num_score=kprototypes.euclidean_dissim(a_num,b_num)\n",
    "        return cat_score+num_score*alpha\n",
    "def dm_prototypes(dataset,categorical=None,alpha=0.1):\n",
    "    #if the input dataset is a dataframe, we take out the values as a numpy. \n",
    "    #If the input dataset is a numpy array, we use it as is.\n",
    "    if type(dataset).__name__=='DataFrame':\n",
    "        dataset=dataset.values    \n",
    "    lenDataset=len(dataset)\n",
    "    distance_matrix=np.zeros(lenDataset*lenDataset).reshape(lenDataset,lenDataset)\n",
    "    for i in range(lenDataset):\n",
    "        for j in range(lenDataset):\n",
    "            x1= dataset[i]\n",
    "            x2= dataset[j]\n",
    "            distance=mixed_distance(x1, x2,categorical=categorical,alpha=alpha)\n",
    "            distance_matrix[i][j]=distance\n",
    "            distance_matrix[j][i]=distance\n",
    "    return distance_matrix\n",
    "import pandas as pd\n",
    "import numpy as np\n",
    "from sklearn.metrics import silhouette_score\n",
    "#df=pd.read_csv(\"Kprototypes_dataset.csv\", index_col=[\"Student\"])\n",
    "df = df_reduced\n",
    "#Normalize dataset\n",
    "#df[\"Height(in cms)\"]=(df[\"Height(in cms)\"]/df[\"Height(in cms)\"].abs().max())*5\n",
    "#df[\"Weight(in Kgs)\"]=(df[\"Weight(in Kgs)\"]/df[\"Weight(in Kgs)\"].abs().max())*5\n",
    "#obtain array of values\n",
    "data_array=df.values\n",
    "#specify data types\n",
    "data_array[:, 0:3] = data_array[:, 0:3].astype(str)\n",
    "data_array[:, 3:] = data_array[:, 3::].astype(float)\n",
    "silhouette_scores = dict()\n",
    "K = range(1,10)\n",
    "distance_matrix=dm_prototypes(data_array,categorical=cat,alpha=0.1)\n",
    "for k in K:\n",
    "    untrained_model = kprototypes.KPrototypes(n_clusters=k,max_iter=20)\n",
    "    trained_model = untrained_model.fit(data_array, categorical=cat)\n",
    "    cluster_labels = trained_model.labels_\n",
    "    score=silhouette_score(distance_matrix, cluster_labels,metric=\"precomputed\")\n",
    "    silhouette_scores[k]=score\n",
    "print(\"The k and associated Silhouette scores are: \",silhouette_scores)"
   ]
  }
 ],
 "metadata": {
  "kernelspec": {
   "display_name": "Python 3",
   "language": "python",
   "name": "python3"
  },
  "language_info": {
   "codemirror_mode": {
    "name": "ipython",
    "version": 3
   },
   "file_extension": ".py",
   "mimetype": "text/x-python",
   "name": "python",
   "nbconvert_exporter": "python",
   "pygments_lexer": "ipython3",
   "version": "3.11.3"
  },
  "orig_nbformat": 4
 },
 "nbformat": 4,
 "nbformat_minor": 2
}
